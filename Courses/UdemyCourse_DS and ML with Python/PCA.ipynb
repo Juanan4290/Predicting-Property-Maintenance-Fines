{
 "cells": [
  {
   "cell_type": "markdown",
   "metadata": {},
   "source": [
    "# Principal Component Analysis"
   ]
  },
  {
   "cell_type": "markdown",
   "metadata": {},
   "source": [
    "PCA is a dimensionality reduction technique; it lets you distill multi-dimensional data down to fewer dimensions, selecting new dimensions that preserve variance in the data as best it can.\n",
    "\n",
    "We're not talking about Star Trek stuff here; let's make it real - a black & white image for example, contains three dimensions of data: X position, Y position, and brightness at each point. Distilling that down to two dimensions can be useful for things like image compression and facial recognition, because it distills out the information that contributes most to the variance in the data set.\n",
    "\n",
    "Let's do this with a simpler example: the Iris data set that comes with scikit-learn. It's just a small collection of data that has four dimensions of data for three different kinds of Iris flowers: The length and width of both the petals and sepals of many individual flowers from each species. Let's load it up and have a look:"
   ]
  },
  {
   "cell_type": "code",
   "execution_count": 1,
   "metadata": {
    "collapsed": false
   },
   "outputs": [
    {
     "name": "stdout",
     "output_type": "stream",
     "text": [
      "150\n",
      "4\n",
      "['setosa', 'versicolor', 'virginica']\n"
     ]
    }
   ],
   "source": [
    "from sklearn.datasets import load_iris\n",
    "from sklearn.decomposition import PCA\n",
    "import pylab as pl\n",
    "from itertools import cycle\n",
    "\n",
    "iris = load_iris()\n",
    "\n",
    "numSamples, numFeatures = iris.data.shape\n",
    "print(numSamples)\n",
    "print(numFeatures)\n",
    "print(list(iris.target_names))"
   ]
  },
  {
   "cell_type": "markdown",
   "metadata": {},
   "source": [
    "So, this tells us our data set has 150 samples (individual flowers) in it. It has 4 dimensions - called features here, and three distinct Iris species that each flower is classified into.\n",
    "\n",
    "While we can visualize 2 or even 3 dimensions of data pretty easily, visualizing 4D data isn't something our brains can do. So let's distill this down to 2 dimensions, and see how well it works:"
   ]
  },
  {
   "cell_type": "code",
   "execution_count": 10,
   "metadata": {
    "collapsed": false
   },
   "outputs": [],
   "source": [
    "X = iris.data\n",
    "pca = PCA(n_components=1, whiten=True).fit(X)\n",
    "X_pca = pca.transform(X)"
   ]
  },
  {
   "cell_type": "markdown",
   "metadata": {},
   "source": [
    "What we have done is distill our 4D data set down to 2D, by projecting it down to two orthogonal 4D vectors that make up the basis of our new 2D projection. We can see what those 4D vectors are, although it's not something you can really wrap your head around:"
   ]
  },
  {
   "cell_type": "code",
   "execution_count": 11,
   "metadata": {
    "collapsed": false
   },
   "outputs": [
    {
     "name": "stdout",
     "output_type": "stream",
     "text": [
      "[[ 0.36158968 -0.08226889  0.85657211  0.35884393]]\n"
     ]
    }
   ],
   "source": [
    "print(pca.components_)"
   ]
  },
  {
   "cell_type": "markdown",
   "metadata": {},
   "source": [
    "Let's see how much information we've managed to preserve:"
   ]
  },
  {
   "cell_type": "code",
   "execution_count": 12,
   "metadata": {
    "collapsed": false
   },
   "outputs": [
    {
     "name": "stdout",
     "output_type": "stream",
     "text": [
      "[ 0.92461621]\n",
      "0.924616207174\n"
     ]
    }
   ],
   "source": [
    "print(pca.explained_variance_ratio_)\n",
    "print(sum(pca.explained_variance_ratio_))"
   ]
  },
  {
   "cell_type": "markdown",
   "metadata": {},
   "source": [
    "That's pretty cool. Although we have thrown away two of our four dimensions, PCA has chosen the remaining two dimensions well enough that we've captured 92% of the variance in our data in a single dimension alone! The second dimension just gives us an additional 5%; altogether we've only really lost less than 3% of the variance in our data by projecting it down to two dimensions.\n",
    "\n",
    "As promised, now that we have a 2D representation of our data, we can plot it:"
   ]
  },
  {
   "cell_type": "code",
   "execution_count": 15,
   "metadata": {
    "collapsed": false
   },
   "outputs": [
    {
     "name": "stderr",
     "output_type": "stream",
     "text": [
      "C:\\Users\\47491398D\\Documents\\Canopy\\User\\lib\\site-packages\\matplotlib\\axes\\_axes.py:519: UserWarning: No labelled objects found. Use label='...' kwarg on individual plots.\n",
      "  warnings.warn(\"No labelled objects found. \"\n"
     ]
    },
    {
     "data": {
      "image/png": "[encoded data removed]",
      "text/plain": [
       "<matplotlib.figure.Figure at 0xaf8ddd8>"
      ]
     },
     "metadata": {},
     "output_type": "display_data"
    }
   ],
   "source": [
    "%matplotlib inline\n",
    "from pylab import *\n",
    "\n",
    "colors = cycle('rgb')\n",
    "target_ids = range(len(iris.target_names))\n",
    "pl.figure()\n",
    "for i, c, label in zip(target_ids, colors, iris.target_names):\n",
    "    pl.hist(X_pca[iris.target == i, 0])\n",
    "pl.legend()\n",
    "pl.show()\n",
    "    "
   ]
  },
  {
   "cell_type": "markdown",
   "metadata": {},
   "source": [
    "You can see the three different types of Iris are still clustered pretty well. If you think about it, this probably works well because the overall size of an individual flower probably makes both the petal and sepal sizes increase by a similar amount. Although the actual numbers on this graph have no intuitive meaning, what we're probably seeing is measure of the ratio of width to height for petals and sepals - and PCA distilled our data down to that on its own."
   ]
  },
  {
   "cell_type": "markdown",
   "metadata": {},
   "source": [
    "## Activity"
   ]
  },
  {
   "cell_type": "markdown",
   "metadata": {},
   "source": [
    "Our results suggest we could actually distill this data down to a single dimension and still preserve most of its variance. Try it! Do a PCA down to one component, and measure the results."
   ]
  },
  {
   "cell_type": "code",
   "execution_count": 9,
   "metadata": {
    "collapsed": false
   },
   "outputs": [
    {
     "data": {
      "text/plain": [
       "array([[-1.31027769,  0.665813  ],\n",
       "       [-1.32549971, -0.34565409],\n",
       "       [-1.41064601, -0.27998911],\n",
       "       [-1.34065489, -0.63424977],\n",
       "       [-1.33194435,  0.68072975],\n",
       "       [-1.1129166 ,  1.52440999],\n",
       "       [-1.37699885, -0.16737608],\n",
       "       [-1.28209956,  0.34738382],\n",
       "       [-1.40973759, -1.1636137 ],\n",
       "       [-1.30521934, -0.21749888],\n",
       "       [-1.22354423,  1.32901741],\n",
       "       [-1.27558808,  0.04387139],\n",
       "       [-1.36066719, -0.4642651 ],\n",
       "       [-1.57435995, -1.02597306],\n",
       "       [-1.29042788,  2.41814543],\n",
       "       [-1.16366981,  2.74138051],\n",
       "       [-1.28016857,  1.66773589],\n",
       "       [-1.29276097,  0.65058354],\n",
       "       [-1.07346515,  1.79240366],\n",
       "       [-1.26299568,  1.06102374],\n",
       "       [-1.12787054,  0.81108278],\n",
       "       [-1.24146305,  0.89703705],\n",
       "       [-1.56979935,  0.28869375],\n",
       "       [-1.12425674,  0.21511573],\n",
       "       [-1.1501491 , -0.06362304],\n",
       "       [-1.22422296, -0.28347656],\n",
       "       [-1.20525311,  0.28109342],\n",
       "       [-1.25081394,  0.763822  ],\n",
       "       [-1.28861104,  0.65089625],\n",
       "       [-1.28520704, -0.38748354],\n",
       "       [-1.26354038, -0.40240029],\n",
       "       [-1.17646308,  0.85228681],\n",
       "       [-1.29242607,  1.67159483],\n",
       "       [-1.26778597,  2.2424755 ],\n",
       "       [-1.30521934, -0.21749888],\n",
       "       [-1.39950673,  0.1573638 ],\n",
       "       [-1.28148766,  1.23700639],\n",
       "       [-1.30521934, -0.21749888],\n",
       "       [-1.45556648, -0.979025  ],\n",
       "       [-1.2644488 ,  0.4812243 ],\n",
       "       [-1.35222472,  0.55257454],\n",
       "       [-1.3922877 , -1.90171458],\n",
       "       [-1.46359829, -0.68151055],\n",
       "       [-1.17423556,  0.39939172],\n",
       "       [-1.07822698,  0.90246838],\n",
       "       [-1.32563374, -0.49472403],\n",
       "       [-1.23869941,  1.04042173],\n",
       "       [-1.38648378, -0.44966107],\n",
       "       [-1.24119499,  1.19517694],\n",
       "       [-1.31989665,  0.23445807],\n",
       "       [ 0.62716386,  1.39731813],\n",
       "       [ 0.45515005,  0.65070875],\n",
       "       [ 0.71467171,  1.02782801],\n",
       "       [ 0.08833793, -1.68305428],\n",
       "       [ 0.5306774 ,  0.15368885],\n",
       "       [ 0.3126249 , -0.85074457],\n",
       "       [ 0.5346261 ,  0.57873309],\n",
       "       [-0.36682364, -2.0408312 ],\n",
       "       [ 0.50927881,  0.46674548],\n",
       "       [-0.00497421, -1.4689448 ],\n",
       "       [-0.2494833 , -2.57368258],\n",
       "       [ 0.24948909, -0.20851366],\n",
       "       [ 0.12805744, -1.11692073],\n",
       "       [ 0.48035474, -0.25351785],\n",
       "       [-0.08535869, -0.51334454],\n",
       "       [ 0.45278851,  0.9545339 ],\n",
       "       [ 0.32197579, -0.71752952],\n",
       "       [ 0.11448941, -0.67664703],\n",
       "       [ 0.46000754, -1.10454447],\n",
       "       [ 0.02111044, -1.18540895],\n",
       "       [ 0.54488542, -0.17167645],\n",
       "       [ 0.17416297, -0.13622528],\n",
       "       [ 0.63286257, -0.66775822],\n",
       "       [ 0.44933719, -0.37181615],\n",
       "       [ 0.34853832,  0.30655895],\n",
       "       [ 0.43915365,  0.67193619],\n",
       "       [ 0.64973894,  0.49877679],\n",
       "       [ 0.76023254,  0.54509943],\n",
       "       [ 0.39659472, -0.33092484],\n",
       "       [-0.1500234 , -0.74425588],\n",
       "       [-0.03433741, -1.43217518],\n",
       "       [-0.09366713, -1.38111424],\n",
       "       [ 0.06589688, -0.635443  ],\n",
       "       [ 0.6730212 , -0.85865761],\n",
       "       [ 0.28667428, -0.98521048],\n",
       "       [ 0.39403195,  0.39763183],\n",
       "       [ 0.59574421,  0.83181001],\n",
       "       [ 0.39679596, -0.75565637],\n",
       "       [ 0.11969037, -0.54374469],\n",
       "       [ 0.08030613, -1.38553983],\n",
       "       [ 0.22602547, -1.36487905],\n",
       "       [ 0.43452585, -0.06892915],\n",
       "       [ 0.11172577, -0.82003171],\n",
       "       [-0.34515698, -2.05574795],\n",
       "       [ 0.17355107, -1.02584785],\n",
       "       [ 0.1616374 , -0.43050623],\n",
       "       [ 0.18317002, -0.59449292],\n",
       "       [ 0.3132368 ,  0.03887799],\n",
       "       [-0.44346028, -1.53212805],\n",
       "       [ 0.14537293, -0.70741867],\n",
       "       [ 1.23584553, -0.02414127],\n",
       "       [ 0.69026987, -1.17202696],\n",
       "       [ 1.2772194 ,  0.6970602 ],\n",
       "       [ 0.96204009, -0.36923803],\n",
       "       [ 1.14701859, -0.08538065],\n",
       "       [ 1.65816414,  1.11544225],\n",
       "       [ 0.25353345, -2.42865793],\n",
       "       [ 1.43123861,  0.71834641],\n",
       "       [ 1.13233271, -0.50056798],\n",
       "       [ 1.42446764,  1.59086324],\n",
       "       [ 0.81126239,  0.49341306],\n",
       "       [ 0.8798004 , -0.44064704],\n",
       "       [ 1.05701516,  0.43886467],\n",
       "       [ 0.65635464, -1.58277988],\n",
       "       [ 0.77383759, -1.09941704],\n",
       "       [ 0.92978779,  0.24222124],\n",
       "       [ 0.95151271,  0.08303163],\n",
       "       [ 1.70301741,  2.38827961],\n",
       "       [ 1.85235092,  0.51630047],\n",
       "       [ 0.63377099, -1.55138281],\n",
       "       [ 1.18529355,  0.76809772],\n",
       "       [ 0.58484319, -1.2345172 ],\n",
       "       [ 1.70814296,  0.93116626],\n",
       "       [ 0.67738094, -0.41593215],\n",
       "       [ 1.11094268,  0.67963292],\n",
       "       [ 1.27610117,  1.13827204],\n",
       "       [ 0.61390129, -0.36518393],\n",
       "       [ 0.63003173, -0.23734143],\n",
       "       [ 1.03625692, -0.42984317],\n",
       "       [ 1.16547354,  0.94287947],\n",
       "       [ 1.38679601,  0.75986315],\n",
       "       [ 1.57784649,  2.79391392],\n",
       "       [ 1.05377365, -0.44507263],\n",
       "       [ 0.70444085, -0.29314949],\n",
       "       [ 0.86871937, -1.02227282],\n",
       "       [ 1.50178338,  1.39798119],\n",
       "       [ 1.04706094,  0.28317133],\n",
       "       [ 0.92984605,  0.09794837],\n",
       "       [ 0.57056798, -0.33535043],\n",
       "       [ 1.02883702,  0.75729385],\n",
       "       [ 1.12971167,  0.37226156],\n",
       "       [ 0.9384315 ,  0.83432936],\n",
       "       [ 0.69026987, -1.17202696],\n",
       "       [ 1.25126878,  0.56259429],\n",
       "       [ 1.18100959,  0.61871507],\n",
       "       [ 0.94895888,  0.3820597 ],\n",
       "       [ 0.74474246, -0.76450755],\n",
       "       [ 0.86110718,  0.16006713],\n",
       "       [ 0.92826747,  0.23622326],\n",
       "       [ 0.6783562 , -0.57668534]])"
      ]
     },
     "execution_count": 9,
     "metadata": {},
     "output_type": "execute_result"
    }
   ],
   "source": [
    "X_pca"
   ]
  },
  {
   "cell_type": "code",
   "execution_count": null,
   "metadata": {
    "collapsed": true
   },
   "outputs": [],
   "source": []
  }
 ],
 "metadata": {
  "kernelspec": {
   "display_name": "Python 2",
   "language": "python",
   "name": "python2"
  },
  "language_info": {
   "codemirror_mode": {
    "name": "ipython",
    "version": 2
   },
   "file_extension": ".py",
   "mimetype": "text/x-python",
   "name": "python",
   "nbconvert_exporter": "python",
   "pygments_lexer": "ipython2",
   "version": "2.7.11"
  }
 },
 "nbformat": 4,
 "nbformat_minor": 0
}
